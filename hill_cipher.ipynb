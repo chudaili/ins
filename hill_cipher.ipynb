{
  "nbformat": 4,
  "nbformat_minor": 0,
  "metadata": {
    "colab": {
      "provenance": [],
      "authorship_tag": "ABX9TyNqQIrwCyZ9yyPPuEfHGWev",
      "include_colab_link": true
    },
    "kernelspec": {
      "name": "python3",
      "display_name": "Python 3"
    },
    "language_info": {
      "name": "python"
    }
  },
  "cells": [
    {
      "cell_type": "markdown",
      "metadata": {
        "id": "view-in-github",
        "colab_type": "text"
      },
      "source": [
        "<a href=\"https://colab.research.google.com/github/chudaili/ins/blob/main/hill_cipher.ipynb\" target=\"_parent\"><img src=\"https://colab.research.google.com/assets/colab-badge.svg\" alt=\"Open In Colab\"/></a>"
      ]
    },
    {
      "cell_type": "code",
      "execution_count": null,
      "metadata": {
        "colab": {
          "base_uri": "https://localhost:8080/"
        },
        "id": "cUEP3ALLld_3",
        "outputId": "df79e473-3723-487c-e3db-496f385513e9"
      },
      "outputs": [
        {
          "output_type": "stream",
          "name": "stdout",
          "text": [
            "Encrypted: APADFU\n"
          ]
        }
      ],
      "source": [
        "import numpy as np\n",
        "\n",
        "def hillcipher_encrypt(plaintext,key):\n",
        "    n =len(key)\n",
        "    plaintext=plaintext.upper().replace(\"\",\"\")\n",
        "    if len(plaintext)% n!=0:\n",
        "        plaintext +=\"X\"*(n-len(plaintext)%n)\n",
        "\n",
        "    plaintext_vector=[ord(char)-ord('A') for char in plaintext]\n",
        "    ciphertext=\"\"\n",
        "    for i in range(0,len(plaintext_vector),n):\n",
        "        block=plaintext_vector[i:i+n]\n",
        "        result=np.dot(key,block)%26\n",
        "        ciphertext+=\"\".join(chr(num+ord('A'))for num in result)\n",
        "    return ciphertext\n",
        "\n",
        "plaintext = \"SHORT\"\n",
        "key = np.array([[7,8],[11,11]])\n",
        "print(\"Encrypted:\", hillcipher_encrypt(plaintext, key))"
      ]
    }
  ]
}