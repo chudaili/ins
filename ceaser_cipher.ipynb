{
  "nbformat": 4,
  "nbformat_minor": 0,
  "metadata": {
    "colab": {
      "provenance": [],
      "authorship_tag": "ABX9TyPX4RP0+DBK/PjufOkVzX6/",
      "include_colab_link": true
    },
    "kernelspec": {
      "name": "python3",
      "display_name": "Python 3"
    },
    "language_info": {
      "name": "python"
    }
  },
  "cells": [
    {
      "cell_type": "markdown",
      "metadata": {
        "id": "view-in-github",
        "colab_type": "text"
      },
      "source": [
        "<a href=\"https://colab.research.google.com/github/chudaili/ins/blob/main/ceaser_cipher.ipynb\" target=\"_parent\"><img src=\"https://colab.research.google.com/assets/colab-badge.svg\" alt=\"Open In Colab\"/></a>"
      ]
    },
    {
      "cell_type": "code",
      "execution_count": null,
      "metadata": {
        "colab": {
          "base_uri": "https://localhost:8080/"
        },
        "id": "rIon1XXDk3CM",
        "outputId": "cf8aeac8-64a6-4cd3-85ad-dfcf16127978"
      },
      "outputs": [
        {
          "output_type": "stream",
          "name": "stdout",
          "text": [
            "Text : ABCDEFGH\n",
            "Shift : 4\n",
            "Cipher: EFGHIJKL\n",
            "Text : egfhijkl\n",
            "Shift : 4\n",
            "Cipher: acbdefgh\n"
          ]
        }
      ],
      "source": [
        "def encrypt(text,s):\n",
        "    result=\"\"\n",
        "    for i in range(len(text)):\n",
        "        char= text[i]\n",
        "        result +=chr((ord(char) +s-65) % 26 +65)\n",
        "\n",
        "    return result\n",
        "text = \"ABCDEFGH\"\n",
        "s = 4\n",
        "print (\"Text : \" + text)\n",
        "print (\"Shift : \" + str(s))\n",
        "print (\"Cipher: \" + encrypt(text,s))\n",
        "\n",
        "def decrypt(s, text):\n",
        "    result = \"\"\n",
        "\n",
        "    for i in range(len(text)):\n",
        "        char = text[i]\n",
        "        result += chr((ord(char) - 97 - s) % 26 + 97)\n",
        "\n",
        "    return result\n",
        "\n",
        "text = \"egfhijkl\"\n",
        "s = 4\n",
        "\n",
        "print(\"Text : \" + text)\n",
        "print(\"Shift : \" + str(s))\n",
        "print(\"Cipher: \" + decrypt(s, text))"
      ]
    }
  ]
}